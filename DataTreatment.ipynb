{
 "cells": [
  {
   "cell_type": "markdown",
   "metadata": {},
   "source": [
    "## Libraries"
   ]
  },
  {
   "cell_type": "code",
   "execution_count": 1,
   "metadata": {
    "collapsed": true
   },
   "outputs": [],
   "source": [
    "import unicodedata\n",
    "import pandas as pd\n",
    "import numpy as np"
   ]
  },
  {
   "cell_type": "markdown",
   "metadata": {},
   "source": [
    "## Normalizing the names to lowercase ascii to maximize the matchings between names from the name list and server list, in case of differences in spelling and uppercase/lowercase"
   ]
  },
  {
   "cell_type": "code",
   "execution_count": 4,
   "metadata": {
    "collapsed": true
   },
   "outputs": [],
   "source": [
    "#from https://stackoverflow.com/questions/517923/what-is-the-best-way-to-remove-accents-in-a-python-unicode-string\n",
    "def remove_accents(input_str):\n",
    "    nfkd_form = unicodedata.normalize('NFKD', input_str)\n",
    "    return u\"\".join([c for c in nfkd_form if not unicodedata.combining(c)])\n",
    "\n",
    "def toLowercaseASCII(inputStr):\n",
    "    noAccents = remove_accents(inputStr)\n",
    "    return noAccents.rstrip().lower()"
   ]
  },
  {
   "cell_type": "markdown",
   "metadata": {},
   "source": [
    "## Preparing servers information dataframe"
   ]
  },
  {
   "cell_type": "code",
   "execution_count": 5,
   "metadata": {
    "collapsed": false
   },
   "outputs": [
    {
     "name": "stdout",
     "output_type": "stream",
     "text": [
      "Loaded original csv\n",
      "Total servers (raw): 6206\n",
      "Servers without money: 496\n",
      "Servers without post: 513\n",
      "Servers without class: 513\n",
      "Servers without level: 3505\n",
      "Servers without org: 554\n",
      "Servers with money, post, and org: 5651\n"
     ]
    },
    {
     "name": "stderr",
     "output_type": "stream",
     "text": [
      "/home/ana/anaconda3/lib/python3.6/site-packages/ipykernel/__main__.py:11: SettingWithCopyWarning: \n",
      "A value is trying to be set on a copy of a slice from a DataFrame.\n",
      "Try using .loc[row_indexer,col_indexer] = value instead\n",
      "\n",
      "See the caveats in the documentation: http://pandas.pydata.org/pandas-docs/stable/indexing.html#indexing-view-versus-copy\n"
     ]
    }
   ],
   "source": [
    "df = pd.read_csv(\"csv/servers.csv\", sep=';')\n",
    "print(\"Loaded original csv\")\n",
    "print(\"Total servers (raw): \" + str(len(df)))\n",
    "print(\"Servers without money: \" + str(len(df)-len(df.dropna(subset=['money']))))\n",
    "print(\"Servers without post: \" + str(len(df)-len(df.dropna(subset=['post']))))\n",
    "print(\"Servers without class: \" + str(len(df)-len(df.dropna(subset=['class']))))\n",
    "print(\"Servers without level: \" + str(len(df)-len(df.dropna(subset=['level']))))\n",
    "print(\"Servers without org: \" + str(len(df)-len(df.dropna(subset=['org']))))\n",
    "noNaNDF = df.dropna(subset=['org', 'post', 'money'])\n",
    "print(\"Servers with money, post, and org: \" + str(len(noNaNDF)))\n",
    "noNaNDF['name'] = noNaNDF['name'].apply(lambda x: toLowercaseASCII(x))\n",
    "#converting the names to ASCII lowercase format\n",
    "#for index, row in noNaNDF.iterrows():\n",
    "#    name = row['name']\n",
    "#    newName = toLowercaseASCII(name)\n",
    "#    noNaNDF.loc[index, 'name']=newName"
   ]
  },
  {
   "cell_type": "code",
   "execution_count": 6,
   "metadata": {
    "collapsed": true
   },
   "outputs": [],
   "source": [
    "noNaNDF.to_csv(\"csv/serversTreated.csv\")"
   ]
  },
  {
   "cell_type": "markdown",
   "metadata": {},
   "source": [
    "## Creating sets, with normalized content, for female and male names"
   ]
  },
  {
   "cell_type": "code",
   "execution_count": 7,
   "metadata": {
    "collapsed": false
   },
   "outputs": [
    {
     "name": "stdout",
     "output_type": "stream",
     "text": [
      "      name  count gender\n",
      "0  zulamar      1      M\n",
      "1   helano      1      M\n",
      "2    heric      1      M\n",
      "Male names: 4298\n",
      "Female names: 3573\n",
      "Names for both genders: 4\n",
      "Male last chars: \n",
      "n: 11.09818520241973%\n",
      "\tn: 1.8751749230338652%, in females\n",
      "l: 4.699860400186133%\n",
      "\tl: 1.4833473271760425%, in females\n",
      "o: 34.993020009306655%\n",
      "\to: 0.559753708368318%, in females\n",
      "r: 7.794322940902745%\n",
      "\tr: 0.8956059333893087%, in females\n",
      "m: 1.7915309446254073%\n",
      "\tm: 0.33585222502099077%, in females\n",
      "d: 1.7449976733364354%\n",
      "\td: 0.2518891687657431%, in females\n",
      "e: 7.422056770590972%\n",
      "\te: 20.347047299188358%, in females\n",
      "s: 9.422987436016752%\n",
      "\ts: 2.18303946263644%, in females\n",
      "h: 1.093531875290833%\n",
      "\th: 0.9235936188077246%, in females\n",
      "z: 0.860865518845975%\n",
      "\tz: 0.16792611251049538%, in females\n",
      "i: 5.002326663564449%\n",
      "\ti: 4.254128183599216%, in females\n",
      "b: 0.2791996277338297%\n",
      "\tb: 0.08396305625524769%, in females\n",
      "c: 0.3955328059562588%\n",
      "f: 0.23266635644485809%\n",
      "u: 2.5127966496044674%\n",
      "\tu: 0.2518891687657431%, in females\n",
      "y: 2.303396928804095%\n",
      "\ty: 3.8063252169045616%, in females\n",
      "a: 6.584457887389483%\n",
      "\ta: 63.308144416456756%, in females\n",
      "x: 0.2559329920893439%\n",
      "\tx: 0.027987685418415897%, in females\n",
      "t: 1.2563983248022337%\n",
      "\tt: 0.531766022949902%, in females\n",
      "w: 0.09306654257794324%\n",
      "j: 0.06979990693345743%\n",
      "k: 0.8841321544904607%\n",
      "\tk: 0.1399384270920795%, in females\n",
      "v: 0.09306654257794324%\n",
      "\tv: 0.027987685418415897%, in females\n",
      "g: 0.4187994416007445%\n",
      "\tg: 0.027987685418415897%, in females\n",
      "p: 0.04653327128897162%\n",
      "q: 0.02326663564448581%\n",
      "<: 0.02326663564448581%\n",
      "\t<: 0.027987685418415897%, in females\n",
      "=: 0.02326663564448581%\n",
      "\t=: 0.027987685418415897%, in females\n",
      ">: 0.02326663564448581%\n",
      "\t>: 0.027987685418415897%, in females\n"
     ]
    }
   ],
   "source": [
    "femaleNames = set()\n",
    "maleNames = set()\n",
    "femaleLastCharOcurrence = dict()\n",
    "maleLastCharOcurrence = dict()\n",
    "\n",
    "def isFemale(name):\n",
    "    return (name in femaleNames)\n",
    "\n",
    "def isMale(name):\n",
    "    return (name in maleNames)\n",
    "\n",
    "def knownName(name):\n",
    "    return isFemale(name) or isMale(name)\n",
    "\n",
    "def getGenderFromLastChar(name):\n",
    "    if name.endswith('a'):\n",
    "        return 'F'\n",
    "    elif name.endswith('o'):\n",
    "        return 'M'\n",
    "    else:\n",
    "        return 'X'\n",
    "\n",
    "def getGender(row):\n",
    "    name = row['name']\n",
    "    names = name.split()\n",
    "    if len(names) <= 0:\n",
    "        return 'X'\n",
    "    firstName = names[0]\n",
    "    #print(firstName)\n",
    "    if firstName in femaleNames:\n",
    "        return 'F'\n",
    "    elif firstName in maleNames:\n",
    "        return 'M'\n",
    "    else:\n",
    "        if(len(names) > 1):\n",
    "            firstName = names[0] + \" \" + names[1]\n",
    "            if firstName in femaleNames:\n",
    "                return 'F'\n",
    "            elif firstName in maleNames:\n",
    "                return 'M'\n",
    "            else:\n",
    "                return 'X'\n",
    "        else:\n",
    "            return 'x'\n",
    "\n",
    "def putLinesInSet(filePath, collection, lastChars):\n",
    "    lines = open(filePath)\n",
    "    for line in lines:\n",
    "        asciiLine = toLowercaseASCII(line)\n",
    "        collection.add(asciiLine)\n",
    "        splitedWords = asciiLine.split()\n",
    "        if len(splitedWords) >= 1:\n",
    "            firstWord = splitedWords[0]\n",
    "            lastChar = firstWord[-1]\n",
    "            if lastChar in lastChars:\n",
    "                lastChars[lastChar] = lastChars[lastChar] + 1\n",
    "            else:\n",
    "                lastChars[lastChar] = 1\n",
    "\n",
    "def getGendersFromNameDataFrame(filePath):\n",
    "    data = pd.read_csv(filePath)\n",
    "    print(data.head(3))\n",
    "    maleNamesFile = open(\"csv/maleNames.csv\",\"a\")\n",
    "    femaleNamesFile = open(\"csv/femaleNames.csv\",\"a\")\n",
    "    for index, row in data.iterrows():\n",
    "        gender = row['gender']\n",
    "        if gender == 'M':\n",
    "            maleNames.add(row['name'])\n",
    "            maleNamesFile.write(row['name']+\"\\n\")\n",
    "        elif gender == 'F':\n",
    "            femaleNames.add(row['name'])\n",
    "            femaleNamesFile.write(row['name']+\"\\n\")\n",
    "    femaleNamesFile.close()\n",
    "    maleNamesFile.close()\n",
    "\n",
    "putLinesInSet(\"csv/maleNames.csv\", maleNames, maleLastCharOcurrence)\n",
    "putLinesInSet(\"csv/femaleNames.csv\", femaleNames, femaleLastCharOcurrence)\n",
    "getGendersFromNameDataFrame(\"csv/unknownNames.csv\")\n",
    "print(\"Male names: \" + str(len(maleNames)))\n",
    "print(\"Female names: \" + str(len(femaleNames)))\n",
    "print(\"Names for both genders: \" + str(len(femaleNames.intersection(maleNames))))\n",
    "print(\"Male last chars: \")\n",
    "for key, value in maleLastCharOcurrence.items():\n",
    "    print(key + \": \" + str((value/len(maleNames))*100) + \"%\")\n",
    "    if key in femaleLastCharOcurrence:\n",
    "        print(\"\\t\" + key + \": \" + str((femaleLastCharOcurrence[key]/len(femaleNames))*100) + \"%, in females\")"
   ]
  },
  {
   "cell_type": "code",
   "execution_count": 8,
   "metadata": {
    "collapsed": false
   },
   "outputs": [
    {
     "name": "stdout",
     "output_type": "stream",
     "text": [
      "Servers without gender defined: 2\n"
     ]
    }
   ],
   "source": [
    "noGenderDF = pd.read_csv(\"csv/serversTreated.csv\")\n",
    "noGenderDF['gender'] = np.nan\n",
    "noGenderDF['gender'] = noGenderDF.apply(getGender, axis=1)\n",
    "noGenderServers = 0\n",
    "for index, row in noGenderDF.iterrows():\n",
    "    if row['gender'] == 'X':\n",
    "        noGenderServers += 1\n",
    "print(\"Servers without gender defined: \" + str(noGenderServers))\n",
    "noGenderDF.head()\n",
    "\n",
    "noGenderDF.to_csv(\"csv/serversTreatedWithGender.csv\")"
   ]
  },
  {
   "cell_type": "code",
   "execution_count": 9,
   "metadata": {
    "collapsed": false
   },
   "outputs": [
    {
     "name": "stdout",
     "output_type": "stream",
     "text": [
      "2 undefined first names.\n",
      "         count gender\n",
      "mardeni      1      X\n",
      "aruzza       1      X\n"
     ]
    }
   ],
   "source": [
    "undefinedNames = dict()\n",
    "for index, row in noGenderDF[noGenderDF.gender == 'X'].iterrows():\n",
    "    names = row['name'].split()[0]\n",
    "    #if()\n",
    "    if names in undefinedNames:\n",
    "        undefinedNames[names] += 1\n",
    "    else:\n",
    "        undefinedNames[names] = 1\n",
    "print(str(len(undefinedNames)) + \" undefined first names.\")\n",
    "series = pd.Series(undefinedNames)\n",
    "series.sort_values(ascending=False, inplace=True)\n",
    "series.rename(\"count\", inplace=True)\n",
    "unknownNamesDF = pd.DataFrame(series)\n",
    "unknownNamesDF['gender'] = 'X'\n",
    "print(unknownNamesDF)\n",
    "unknownNamesDF.to_csv(\"csv/unknownNames.csv\")"
   ]
  },
  {
   "cell_type": "code",
   "execution_count": 10,
   "metadata": {
    "collapsed": false
   },
   "outputs": [
    {
     "data": {
      "text/html": [
       "<div>\n",
       "<table border=\"1\" class=\"dataframe\">\n",
       "  <thead>\n",
       "    <tr style=\"text-align: right;\">\n",
       "      <th></th>\n",
       "      <th>Unnamed: 0</th>\n",
       "      <th>Unnamed: 0.1</th>\n",
       "      <th>name</th>\n",
       "      <th>money</th>\n",
       "      <th>post</th>\n",
       "      <th>class</th>\n",
       "      <th>level</th>\n",
       "      <th>org</th>\n",
       "      <th>gender</th>\n",
       "    </tr>\n",
       "  </thead>\n",
       "  <tbody>\n",
       "    <tr>\n",
       "      <th>0</th>\n",
       "      <td>0</td>\n",
       "      <td>0</td>\n",
       "      <td>adelardo adelino dantas de medeiros</td>\n",
       "      <td>17833.66</td>\n",
       "      <td>PROFESSOR DO MAGISTERIO SUPERIOR</td>\n",
       "      <td>7</td>\n",
       "      <td>775.0</td>\n",
       "      <td>PRO-REITORIA DE GRADUACAO</td>\n",
       "      <td>M</td>\n",
       "    </tr>\n",
       "    <tr>\n",
       "      <th>1</th>\n",
       "      <td>1</td>\n",
       "      <td>1</td>\n",
       "      <td>abmael bezerra de oliveira</td>\n",
       "      <td>10388.52</td>\n",
       "      <td>PROFESSOR DO MAGISTERIO SUPERIOR</td>\n",
       "      <td>6</td>\n",
       "      <td>675.0</td>\n",
       "      <td>DEPARTAMENTO DE ENGENHARIA ELETRICA</td>\n",
       "      <td>M</td>\n",
       "    </tr>\n",
       "    <tr>\n",
       "      <th>2</th>\n",
       "      <td>2</td>\n",
       "      <td>2</td>\n",
       "      <td>adailton garcia da silva</td>\n",
       "      <td>7464.42</td>\n",
       "      <td>TECNICO EM AGROPECUARIA</td>\n",
       "      <td>D</td>\n",
       "      <td>NaN</td>\n",
       "      <td>ESCOLA AGRICOLA DE JUNDIAI - UAECA</td>\n",
       "      <td>M</td>\n",
       "    </tr>\n",
       "    <tr>\n",
       "      <th>3</th>\n",
       "      <td>3</td>\n",
       "      <td>3</td>\n",
       "      <td>ada cristina scudelari</td>\n",
       "      <td>19995.43</td>\n",
       "      <td>PROFESSOR DO MAGISTERIO SUPERIOR</td>\n",
       "      <td>8</td>\n",
       "      <td>800.0</td>\n",
       "      <td>DEPARTAMENTO DE ENGENHARIA CIVIL</td>\n",
       "      <td>F</td>\n",
       "    </tr>\n",
       "    <tr>\n",
       "      <th>4</th>\n",
       "      <td>4</td>\n",
       "      <td>7</td>\n",
       "      <td>adamo perrucci</td>\n",
       "      <td>10557.63</td>\n",
       "      <td>PROFESSOR MAGISTERIO SUPERIOR -VISITANTE</td>\n",
       "      <td>4</td>\n",
       "      <td>600.0</td>\n",
       "      <td>DEPT DE DIREITO PROCESSUAL PROPEDEUTICA</td>\n",
       "      <td>M</td>\n",
       "    </tr>\n",
       "  </tbody>\n",
       "</table>\n",
       "</div>"
      ],
      "text/plain": [
       "   Unnamed: 0  Unnamed: 0.1                                 name     money  \\\n",
       "0           0             0  adelardo adelino dantas de medeiros  17833.66   \n",
       "1           1             1           abmael bezerra de oliveira  10388.52   \n",
       "2           2             2             adailton garcia da silva   7464.42   \n",
       "3           3             3               ada cristina scudelari  19995.43   \n",
       "4           4             7                       adamo perrucci  10557.63   \n",
       "\n",
       "                                       post class  level  \\\n",
       "0          PROFESSOR DO MAGISTERIO SUPERIOR     7  775.0   \n",
       "1          PROFESSOR DO MAGISTERIO SUPERIOR     6  675.0   \n",
       "2                   TECNICO EM AGROPECUARIA     D    NaN   \n",
       "3          PROFESSOR DO MAGISTERIO SUPERIOR     8  800.0   \n",
       "4  PROFESSOR MAGISTERIO SUPERIOR -VISITANTE     4  600.0   \n",
       "\n",
       "                                       org gender  \n",
       "0                PRO-REITORIA DE GRADUACAO      M  \n",
       "1      DEPARTAMENTO DE ENGENHARIA ELETRICA      M  \n",
       "2       ESCOLA AGRICOLA DE JUNDIAI - UAECA      M  \n",
       "3         DEPARTAMENTO DE ENGENHARIA CIVIL      F  \n",
       "4  DEPT DE DIREITO PROCESSUAL PROPEDEUTICA      M  "
      ]
     },
     "execution_count": 10,
     "metadata": {},
     "output_type": "execute_result"
    }
   ],
   "source": [
    "import math\n",
    "\n",
    "def moneyToFloat(x):\n",
    "    if x is float:\n",
    "        return x\n",
    "    noDots = x.replace('.', '')\n",
    "    noCurls = noDots.replace(',','.')\n",
    "    return float(noCurls)\n",
    "def parseLevel(x):\n",
    "    f = float(x)\n",
    "    if math.isnan(f):\n",
    "        return float('NaN')\n",
    "    elif(f < 101):\n",
    "        return float('NaN')\n",
    "    noDecimal = math.floor(f / 100) * 100\n",
    "    decimal = (((f/10)-int(f/10))*10)\n",
    "    decimal = decimal - 1\n",
    "    if decimal < 0:\n",
    "        decimal = 0\n",
    "    decimal = decimal * 25.0\n",
    "    return noDecimal + decimal\n",
    "\n",
    "genderDF = pd.read_csv(\"csv/serversTreatedWithGender.csv\")\n",
    "genderDF['money'] = genderDF['money'].apply(lambda x: moneyToFloat(x))\n",
    "genderDF['level'] = genderDF['level'].apply(lambda x: parseLevel(x))\n",
    "genderDF.to_csv(\"csv/serversTreatedWithGender.csv\")\n",
    "genderDF.head()"
   ]
  },
  {
   "cell_type": "code",
   "execution_count": null,
   "metadata": {
    "collapsed": true
   },
   "outputs": [],
   "source": []
  }
 ],
 "metadata": {
  "kernelspec": {
   "display_name": "Python 3",
   "language": "python",
   "name": "python3"
  },
  "language_info": {
   "codemirror_mode": {
    "name": "ipython",
    "version": 3
   },
   "file_extension": ".py",
   "mimetype": "text/x-python",
   "name": "python",
   "nbconvert_exporter": "python",
   "pygments_lexer": "ipython3",
   "version": "3.6.0"
  }
 },
 "nbformat": 4,
 "nbformat_minor": 2
}
