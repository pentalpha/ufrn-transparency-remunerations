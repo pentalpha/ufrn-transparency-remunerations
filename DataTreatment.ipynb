{
 "cells": [
  {
   "cell_type": "markdown",
   "metadata": {},
   "source": [
    "## Libraries"
   ]
  },
  {
   "cell_type": "code",
   "execution_count": 2,
   "metadata": {
    "collapsed": true
   },
   "outputs": [],
   "source": [
    "import unicodedata\n",
    "import pandas as pd\n",
    "import numpy as np"
   ]
  },
  {
   "cell_type": "markdown",
   "metadata": {},
   "source": [
    "## Normalizing the names to lowercase ascii to maximize the matchings between names from the name list and server list, in case of differences in spelling and uppercase/lowercase"
   ]
  },
  {
   "cell_type": "code",
   "execution_count": 3,
   "metadata": {
    "collapsed": true
   },
   "outputs": [],
   "source": [
    "#from https://stackoverflow.com/questions/517923/what-is-the-best-way-to-remove-accents-in-a-python-unicode-string\n",
    "def remove_accents(input_str):\n",
    "    nfkd_form = unicodedata.normalize('NFKD', input_str)\n",
    "    return u\"\".join([c for c in nfkd_form if not unicodedata.combining(c)])\n",
    "\n",
    "def toLowercaseASCII(inputStr):\n",
    "    noAccents = remove_accents(inputStr)\n",
    "    return noAccents.rstrip().lower()"
   ]
  },
  {
   "cell_type": "markdown",
   "metadata": {},
   "source": [
    "## Preparing servers information dataframe"
   ]
  },
  {
   "cell_type": "code",
   "execution_count": null,
   "metadata": {
    "collapsed": true
   },
   "outputs": [],
   "source": [
    "df = pd.read_csv(\"csv/servers.csv\", sep=';')\n",
    "print(\"Loaded original csv\")\n",
    "print(\"Total servers (raw): \" + str(len(df)))\n",
    "print(\"Servers without money: \" + str(len(df)-len(df.dropna(subset=['money']))))\n",
    "print(\"Servers without post: \" + str(len(df)-len(df.dropna(subset=['post']))))\n",
    "print(\"Servers without class: \" + str(len(df)-len(df.dropna(subset=['class']))))\n",
    "print(\"Servers without level: \" + str(len(df)-len(df.dropna(subset=['level']))))\n",
    "print(\"Servers without org: \" + str(len(df)-len(df.dropna(subset=['org']))))\n",
    "noNaNDF = df.dropna(subset=['org', 'class', 'post', 'money'])\n",
    "print(\"Servers with money, post, class and org: \" + str(len(noNaNDF)))\n",
    "\n",
    "#converting the names to ASCII lowercase format\n",
    "for index, row in noNaNDF.iterrows():\n",
    "    name = row['name']\n",
    "    newName = toLowercaseASCII(name)\n",
    "    noNaNDF.loc[index, 'name']=newName"
   ]
  },
  {
   "cell_type": "code",
   "execution_count": null,
   "metadata": {
    "collapsed": true
   },
   "outputs": [],
   "source": [
    "noNaNDF.to_csv(\"csv/serversTreated.csv\")"
   ]
  },
  {
   "cell_type": "markdown",
   "metadata": {},
   "source": [
    "## Creating sets, with normalized content, for female and male names"
   ]
  },
  {
   "cell_type": "code",
   "execution_count": 13,
   "metadata": {},
   "outputs": [
    {
     "name": "stdout",
     "output_type": "stream",
     "text": [
      "Male names: 3786\n",
      "Female names: 2947\n",
      "Names for both genders: 0\n",
      "Male last chars: \n",
      "n: 9.270998415213946%\n",
      "\tn: 2.1038344078724123%, in females\n",
      "l: 4.91283676703645%\n",
      "\tl: 1.7305734645402102%, in females\n",
      "o: 35.89540412044374%\n",
      "\to: 0.6447234475738038%, in females\n",
      "r: 7.422081352350767%\n",
      "\tr: 0.9161859518154056%, in females\n",
      "m: 1.9281563655573164%\n",
      "\tm: 0.3732609433322022%, in females\n",
      "d: 1.8225039619651346%\n",
      "\td: 0.2714625042416016%, in females\n",
      "e: 7.686212361331219%\n",
      "\te: 17.509331523583306%, in females\n",
      "s: 9.667194928684628%\n",
      "\ts: 2.4092297251442143%, in females\n",
      "h: 1.1885895404120443%\n",
      "\th: 1.0858500169664065%, in females\n",
      "z: 0.7923930269413629%\n",
      "\tz: 0.1357312521208008%, in females\n",
      "i: 5.018489170628632%\n",
      "\ti: 4.309467254835426%, in females\n",
      "b: 0.29054410987849977%\n",
      "\tb: 0.10179843909060061%, in females\n",
      "c: 0.39619651347068147%\n",
      "f: 0.2377179080824089%\n",
      "u: 2.7469624933967247%\n",
      "\tu: 0.2714625042416016%, in females\n",
      "y: 1.9281563655573164%\n",
      "\ty: 3.32541567695962%, in females\n",
      "a: 7.3956682514527206%\n",
      "\ta: 65.9993213437394%, in females\n",
      "x: 0.26413100898045433%\n",
      "\tx: 0.0339328130302002%, in females\n",
      "t: 1.2678288431061806%\n",
      "\tt: 0.6107906345436036%, in females\n",
      "w: 0.10565240359218173%\n",
      "j: 0.07923930269413629%\n",
      "k: 0.8452192287374538%\n",
      "\tk: 0.10179843909060061%, in females\n",
      "v: 0.10565240359218173%\n",
      "\tv: 0.0339328130302002%, in females\n",
      "g: 0.31695721077654515%\n",
      "\tg: 0.0339328130302002%, in females\n",
      "p: 0.05282620179609086%\n",
      "q: 0.02641310089804543%\n",
      "{'n': 351, 'l': 186, 'o': 1359, 'r': 281, 'm': 73, 'd': 69, 'e': 291, 's': 366, 'h': 45, 'z': 30, 'i': 190, 'b': 11, 'c': 15, 'f': 9, 'u': 104, 'y': 73, 'a': 280, 'x': 10, 't': 48, 'w': 4, 'j': 3, 'k': 32, 'v': 4, 'g': 12, 'p': 2, 'q': 1}\n"
     ]
    }
   ],
   "source": [
    "femaleNames = set()\n",
    "maleNames = set()\n",
    "femaleLastCharOcurrence = dict()\n",
    "maleLastCharOcurrence = dict()\n",
    "\n",
    "def isFemale(name):\n",
    "    return (name in femaleNames)\n",
    "\n",
    "def isMale(name):\n",
    "    return (name in maleNames)\n",
    "\n",
    "def knownName(name):\n",
    "    return isFemale(name) or isMale(name)\n",
    "\n",
    "def getGenderFromLastChar(name):\n",
    "    if name.endswith('a'):\n",
    "        return 'F'\n",
    "    elif name.endswith('o'):\n",
    "        return 'M'\n",
    "    else:\n",
    "        return 'X'\n",
    "\n",
    "def getGender(row):\n",
    "    name = row['name']\n",
    "    names = name.split()\n",
    "    if len(names) <= 0:\n",
    "        return 'X'\n",
    "    firstName = names[0]\n",
    "    #print(firstName)\n",
    "    if firstName in femaleNames:\n",
    "        return 'F'\n",
    "    elif firstName in maleNames:\n",
    "        return 'M'\n",
    "    else:\n",
    "        if(len(names) > 1):\n",
    "            firstName = names[0] + \" \" + names[1]\n",
    "            if firstName in femaleNames:\n",
    "                return 'F'\n",
    "            elif firstName in maleNames:\n",
    "                return 'M'\n",
    "            else:\n",
    "                return getGenderFromLastChar(names[0])\n",
    "        else:\n",
    "            return getGenderFromLastChar(names[0])\n",
    "\n",
    "def putLinesInSet(filePath, collection, lastChars):\n",
    "    lines = open(filePath)\n",
    "    for line in lines:\n",
    "        asciiLine = toLowercaseASCII(line)\n",
    "        collection.add(asciiLine)\n",
    "        splitedWords = asciiLine.split()\n",
    "        firstWord = splitedWords[0]\n",
    "        lastChar = firstWord[-1]\n",
    "        if lastChar in lastChars:\n",
    "            lastChars[lastChar] = lastChars[lastChar] + 1\n",
    "        else:\n",
    "            lastChars[lastChar] = 1\n",
    "        \n",
    "putLinesInSet(\"csv/maleNames.csv\", maleNames, maleLastCharOcurrence)\n",
    "putLinesInSet(\"csv/femaleNames.csv\", femaleNames, femaleLastCharOcurrence)\n",
    "print(\"Male names: \" + str(len(maleNames)))\n",
    "print(\"Female names: \" + str(len(femaleNames)))\n",
    "print(\"Names for both genders: \" + str(len(femaleNames.intersection(maleNames))))\n",
    "print(\"Male last chars: \")\n",
    "for key, value in maleLastCharOcurrence.items():\n",
    "    print(key + \": \" + str((value/len(maleNames))*100) + \"%\")\n",
    "    if key in femaleLastCharOcurrence:\n",
    "        print(\"\\t\" + key + \": \" + str((femaleLastCharOcurrence[key]/len(femaleNames))*100) + \"%, in females\")"
   ]
  },
  {
   "cell_type": "code",
   "execution_count": 25,
   "metadata": {},
   "outputs": [
    {
     "name": "stdout",
     "output_type": "stream",
     "text": [
      "Servers without gender defined: 824\n"
     ]
    }
   ],
   "source": [
    "noGenderDF = pd.read_csv(\"csv/serversTreated.csv\")\n",
    "noGenderDF['gender'] = np.nan\n",
    "noGenderDF['gender'] = noGenderDF.apply(getGender, axis=1)\n",
    "noGenderServers = 0\n",
    "for index, row in noGenderDF.iterrows():\n",
    "    if row['gender'] == 'X':\n",
    "        noGenderServers += 1\n",
    "print(\"Servers without gender defined: \" + str(noGenderServers))\n",
    "noGenderDF.head()\n",
    "\n",
    "noGenderDF.to_csv(\"csv/serversTreatedWithGender.csv\")"
   ]
  },
  {
   "cell_type": "code",
   "execution_count": 43,
   "metadata": {},
   "outputs": [
    {
     "data": {
      "text/html": [
       "<div>\n",
       "<style>\n",
       "    .dataframe thead tr:only-child th {\n",
       "        text-align: right;\n",
       "    }\n",
       "\n",
       "    .dataframe thead th {\n",
       "        text-align: left;\n",
       "    }\n",
       "\n",
       "    .dataframe tbody tr th {\n",
       "        vertical-align: top;\n",
       "    }\n",
       "</style>\n",
       "<table border=\"1\" class=\"dataframe\">\n",
       "  <thead>\n",
       "    <tr style=\"text-align: right;\">\n",
       "      <th></th>\n",
       "      <th>Unnamed: 0</th>\n",
       "      <th>Unnamed: 0.1</th>\n",
       "      <th>name</th>\n",
       "      <th>money</th>\n",
       "      <th>post</th>\n",
       "      <th>class</th>\n",
       "      <th>level</th>\n",
       "      <th>org</th>\n",
       "      <th>gender</th>\n",
       "    </tr>\n",
       "  </thead>\n",
       "  <tbody>\n",
       "    <tr>\n",
       "      <th>0</th>\n",
       "      <td>0</td>\n",
       "      <td>0</td>\n",
       "      <td>adelardo adelino dantas de medeiros</td>\n",
       "      <td>17.833,66</td>\n",
       "      <td>PROFESSOR DO MAGISTERIO SUPERIOR</td>\n",
       "      <td>7</td>\n",
       "      <td>775.0</td>\n",
       "      <td>PRO-REITORIA DE GRADUACAO</td>\n",
       "      <td>M</td>\n",
       "    </tr>\n",
       "    <tr>\n",
       "      <th>1</th>\n",
       "      <td>1</td>\n",
       "      <td>1</td>\n",
       "      <td>abmael bezerra de oliveira</td>\n",
       "      <td>10.388,52</td>\n",
       "      <td>PROFESSOR DO MAGISTERIO SUPERIOR</td>\n",
       "      <td>6</td>\n",
       "      <td>675.0</td>\n",
       "      <td>DEPARTAMENTO DE ENGENHARIA ELETRICA</td>\n",
       "      <td>X</td>\n",
       "    </tr>\n",
       "    <tr>\n",
       "      <th>2</th>\n",
       "      <td>2</td>\n",
       "      <td>2</td>\n",
       "      <td>adailton garcia da silva</td>\n",
       "      <td>7.464,42</td>\n",
       "      <td>TECNICO EM AGROPECUARIA</td>\n",
       "      <td>D</td>\n",
       "      <td>NaN</td>\n",
       "      <td>ESCOLA AGRICOLA DE JUNDIAI - UAECA</td>\n",
       "      <td>M</td>\n",
       "    </tr>\n",
       "    <tr>\n",
       "      <th>3</th>\n",
       "      <td>3</td>\n",
       "      <td>3</td>\n",
       "      <td>ada cristina scudelari</td>\n",
       "      <td>19.995,43</td>\n",
       "      <td>PROFESSOR DO MAGISTERIO SUPERIOR</td>\n",
       "      <td>8</td>\n",
       "      <td>800.0</td>\n",
       "      <td>DEPARTAMENTO DE ENGENHARIA CIVIL</td>\n",
       "      <td>F</td>\n",
       "    </tr>\n",
       "    <tr>\n",
       "      <th>4</th>\n",
       "      <td>4</td>\n",
       "      <td>7</td>\n",
       "      <td>adamo perrucci</td>\n",
       "      <td>10.557,63</td>\n",
       "      <td>PROFESSOR MAGISTERIO SUPERIOR -VISITANTE</td>\n",
       "      <td>4</td>\n",
       "      <td>600.0</td>\n",
       "      <td>DEPT DE DIREITO PROCESSUAL PROPEDEUTICA</td>\n",
       "      <td>M</td>\n",
       "    </tr>\n",
       "  </tbody>\n",
       "</table>\n",
       "</div>"
      ],
      "text/plain": [
       "   Unnamed: 0  Unnamed: 0.1                                 name      money  \\\n",
       "0           0             0  adelardo adelino dantas de medeiros  17.833,66   \n",
       "1           1             1           abmael bezerra de oliveira  10.388,52   \n",
       "2           2             2             adailton garcia da silva   7.464,42   \n",
       "3           3             3               ada cristina scudelari  19.995,43   \n",
       "4           4             7                       adamo perrucci  10.557,63   \n",
       "\n",
       "                                       post class  level  \\\n",
       "0          PROFESSOR DO MAGISTERIO SUPERIOR     7  775.0   \n",
       "1          PROFESSOR DO MAGISTERIO SUPERIOR     6  675.0   \n",
       "2                   TECNICO EM AGROPECUARIA     D    NaN   \n",
       "3          PROFESSOR DO MAGISTERIO SUPERIOR     8  800.0   \n",
       "4  PROFESSOR MAGISTERIO SUPERIOR -VISITANTE     4  600.0   \n",
       "\n",
       "                                       org gender  \n",
       "0                PRO-REITORIA DE GRADUACAO      M  \n",
       "1      DEPARTAMENTO DE ENGENHARIA ELETRICA      X  \n",
       "2       ESCOLA AGRICOLA DE JUNDIAI - UAECA      M  \n",
       "3         DEPARTAMENTO DE ENGENHARIA CIVIL      F  \n",
       "4  DEPT DE DIREITO PROCESSUAL PROPEDEUTICA      M  "
      ]
     },
     "execution_count": 43,
     "metadata": {},
     "output_type": "execute_result"
    }
   ],
   "source": [
    "import math\n",
    "\n",
    "def moneyToFloat(x):\n",
    "    noDots = x.replace('.', '')\n",
    "    noCurls = noDots.replace(',','.')\n",
    "    return float(noCurls)\n",
    "def parseLevel(x):\n",
    "    f = float(x)\n",
    "    if math.isnan(f):\n",
    "        return float('NaN')\n",
    "    elif(f < 101):\n",
    "        return float('NaN')\n",
    "    noDecimal = math.floor(f / 100) * 100\n",
    "    decimal = (((f/10)-int(f/10))*10)\n",
    "    decimal = decimal - 1\n",
    "    if decimal < 0:\n",
    "        decimal = 0\n",
    "    decimal = decimal * 25.0\n",
    "    return noDecimal + decimal\n",
    "\n",
    "genderDF = pd.read_csv(\"csv/serversTreatedWithGender.csv\")\n",
    "#genderDF['money'] = genderDF['money'].apply(lambda x: moneyToFloat(x))\n",
    "genderDF['level'] = genderDF['level'].apply(lambda x: parseLevel(x))\n",
    "#genderDF.to_csv(\"csv/serversTreatedWithGender.csv\")\n",
    "genderDF.head()"
   ]
  },
  {
   "cell_type": "code",
   "execution_count": null,
   "metadata": {
    "collapsed": true
   },
   "outputs": [],
   "source": []
  },
  {
   "cell_type": "code",
   "execution_count": null,
   "metadata": {
    "collapsed": true
   },
   "outputs": [],
   "source": []
  }
 ],
 "metadata": {
  "kernelspec": {
   "display_name": "Python 3",
   "language": "python",
   "name": "python3"
  },
  "language_info": {
   "codemirror_mode": {
    "name": "ipython",
    "version": 3
   },
   "file_extension": ".py",
   "mimetype": "text/x-python",
   "name": "python",
   "nbconvert_exporter": "python",
   "pygments_lexer": "ipython3",
   "version": "3.6.1"
  }
 },
 "nbformat": 4,
 "nbformat_minor": 2
}
