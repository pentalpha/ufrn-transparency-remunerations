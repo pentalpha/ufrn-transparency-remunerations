{
 "cells": [
  {
   "cell_type": "markdown",
   "metadata": {},
   "source": [
    "## Libraries"
   ]
  },
  {
   "cell_type": "code",
   "execution_count": 1,
   "metadata": {
    "collapsed": true
   },
   "outputs": [],
   "source": [
    "import unicodedata\n",
    "import pandas as pd\n",
    "import numpy as np"
   ]
  },
  {
   "cell_type": "markdown",
   "metadata": {},
   "source": [
    "## Normalizing the names to lowercase ascii to maximize the matchings between names from the name list and server list, in case of differences in spelling and uppercase/lowercase"
   ]
  },
  {
   "cell_type": "code",
   "execution_count": 2,
   "metadata": {
    "collapsed": true
   },
   "outputs": [],
   "source": [
    "#from https://stackoverflow.com/questions/517923/what-is-the-best-way-to-remove-accents-in-a-python-unicode-string\n",
    "def remove_accents(input_str):\n",
    "    nfkd_form = unicodedata.normalize('NFKD', input_str)\n",
    "    return u\"\".join([c for c in nfkd_form if not unicodedata.combining(c)])\n",
    "\n",
    "def toLowercaseASCII(inputStr):\n",
    "    noAccents = remove_accents(inputStr)\n",
    "    return noAccents.rstrip().lower()"
   ]
  },
  {
   "cell_type": "markdown",
   "metadata": {},
   "source": [
    "## Preparing servers information dataframe"
   ]
  },
  {
   "cell_type": "code",
   "execution_count": 3,
   "metadata": {
    "collapsed": false
   },
   "outputs": [
    {
     "name": "stdout",
     "output_type": "stream",
     "text": [
      "Loaded original csv\n",
      "Total servers (raw): 12410\n",
      "Servers without money: 994\n",
      "Servers without post: 1028\n",
      "Servers without class: 1028\n",
      "Servers without level: 7012\n",
      "Servers without org: 1110\n",
      "Servers with money, post, and org: 11298\n"
     ]
    },
    {
     "name": "stderr",
     "output_type": "stream",
     "text": [
      "/home/pitagoras/anaconda3/lib/python3.6/site-packages/ipykernel_launcher.py:11: SettingWithCopyWarning: \n",
      "A value is trying to be set on a copy of a slice from a DataFrame.\n",
      "Try using .loc[row_indexer,col_indexer] = value instead\n",
      "\n",
      "See the caveats in the documentation: http://pandas.pydata.org/pandas-docs/stable/indexing.html#indexing-view-versus-copy\n",
      "  # This is added back by InteractiveShellApp.init_path()\n"
     ]
    }
   ],
   "source": [
    "df = pd.read_csv(\"csv/servers.csv\", sep=';')\n",
    "print(\"Loaded original csv\")\n",
    "print(\"Total servers (raw): \" + str(len(df)))\n",
    "print(\"Servers without money: \" + str(len(df)-len(df.dropna(subset=['money']))))\n",
    "print(\"Servers without post: \" + str(len(df)-len(df.dropna(subset=['post']))))\n",
    "print(\"Servers without class: \" + str(len(df)-len(df.dropna(subset=['class']))))\n",
    "print(\"Servers without level: \" + str(len(df)-len(df.dropna(subset=['level']))))\n",
    "print(\"Servers without org: \" + str(len(df)-len(df.dropna(subset=['org']))))\n",
    "noNaNDF = df.dropna(subset=['org', 'post', 'money'])\n",
    "print(\"Servers with money, post, and org: \" + str(len(noNaNDF)))\n",
    "noNaNDF['name'] = noNaNDF['name'].apply(lambda x: toLowercaseASCII(x))\n",
    "#converting the names to ASCII lowercase format\n",
    "#for index, row in noNaNDF.iterrows():\n",
    "#    name = row['name']\n",
    "#    newName = toLowercaseASCII(name)\n",
    "#    noNaNDF.loc[index, 'name']=newName"
   ]
  },
  {
   "cell_type": "code",
   "execution_count": 4,
   "metadata": {
    "collapsed": true
   },
   "outputs": [],
   "source": [
    "noNaNDF.to_csv(\"csv/serversTreated.csv\")"
   ]
  },
  {
   "cell_type": "markdown",
   "metadata": {},
   "source": [
    "## Creating sets, with normalized content, for female and male names"
   ]
  },
  {
   "cell_type": "code",
   "execution_count": 9,
   "metadata": {
    "collapsed": false
   },
   "outputs": [
    {
     "name": "stdout",
     "output_type": "stream",
     "text": [
      "      name count gender\n",
      "0  zulamar     1      M\n",
      "1   helano     1      M\n",
      "2    heric     1      M\n",
      "Male names: 4298\n",
      "Female names: 3571\n",
      "Names for both genders: 4\n",
      "Male last chars: \n",
      "n: 8.841321544904607%\n",
      "\tn: 1.792215065807897%, in females\n",
      "l: 4.513727315030247%\n",
      "\tl: 1.4281713805656677%, in females\n",
      "o: 32.48022335970219%\n",
      "\to: 0.5320638476617194%, in females\n",
      "r: 6.747324336900884%\n",
      "\tr: 0.784094091290955%, in females\n",
      "m: 1.72173103769195%\n",
      "\tm: 0.3080369644357323%, in females\n",
      "d: 1.6053978594695206%\n",
      "\td: 0.2520302436292355%, in females\n",
      "e: 6.863657515123313%\n",
      "\te: 15.989918790254832%, in females\n",
      "s: 8.631921824104234%\n",
      "\ts: 1.9882385886306357%, in females\n",
      "h: 1.0702652396463472%\n",
      "\th: 0.8961075329039485%, in females\n",
      "z: 0.7445323406235459%\n",
      "\tz: 0.14001680201624195%, in females\n",
      "i: 4.5369939506747325%\n",
      "\ti: 3.6404368524222908%, in females\n",
      "b: 0.2559329920893439%\n",
      "\tb: 0.08401008120974517%, in females\n",
      "c: 0.37226617031177295%\n",
      "f: 0.20939972080037225%\n",
      "u: 2.44299674267101%\n",
      "\tu: 0.22402688322598713%, in females\n",
      "y: 1.7449976733364354%\n",
      "\ty: 2.8843461215345845%, in females\n",
      "a: 6.537924616100511%\n",
      "\ta: 56.45477457294875%, in females\n",
      "x: 0.23266635644485809%\n",
      "\tx: 0.02800336040324839%, in females\n",
      "t: 1.1400651465798046%\n",
      "\tt: 0.504060487258471%, in females\n",
      "w: 0.09306654257794324%\n",
      "j: 0.06979990693345743%\n",
      "k: 0.7910656119125176%\n",
      "\tk: 0.08401008120974517%, in females\n",
      "v: 0.09306654257794324%\n",
      "\tv: 0.02800336040324839%, in females\n",
      "g: 0.3024662633783155%\n",
      "\tg: 0.02800336040324839%, in females\n",
      "p: 0.04653327128897162%\n",
      "q: 0.02326663564448581%\n",
      "<: 0.02326663564448581%\n",
      "\t<: 0.02800336040324839%, in females\n",
      "=: 0.02326663564448581%\n",
      "\t=: 0.02800336040324839%, in females\n",
      ">: 0.02326663564448581%\n",
      "\t>: 0.02800336040324839%, in females\n"
     ]
    }
   ],
   "source": [
    "femaleNames = set()\n",
    "maleNames = set()\n",
    "femaleLastCharOcurrence = dict()\n",
    "maleLastCharOcurrence = dict()\n",
    "\n",
    "def isFemale(name):\n",
    "    return (name in femaleNames)\n",
    "\n",
    "def isMale(name):\n",
    "    return (name in maleNames)\n",
    "\n",
    "def knownName(name):\n",
    "    return isFemale(name) or isMale(name)\n",
    "\n",
    "def getGenderFromLastChar(name):\n",
    "    if name.endswith('a'):\n",
    "        return 'F'\n",
    "    elif name.endswith('o'):\n",
    "        return 'M'\n",
    "    else:\n",
    "        return 'X'\n",
    "\n",
    "def getGender(row):\n",
    "    name = row['name']\n",
    "    names = name.split()\n",
    "    if len(names) <= 0:\n",
    "        return 'X'\n",
    "    firstName = names[0]\n",
    "    #print(firstName)\n",
    "    if firstName in femaleNames:\n",
    "        return 'F'\n",
    "    elif firstName in maleNames:\n",
    "        return 'M'\n",
    "    else:\n",
    "        if(len(names) > 1):\n",
    "            firstName = names[0] + \" \" + names[1]\n",
    "            if firstName in femaleNames:\n",
    "                return 'F'\n",
    "            elif firstName in maleNames:\n",
    "                return 'M'\n",
    "            else:\n",
    "                return 'X'\n",
    "        else:\n",
    "            return 'x'\n",
    "\n",
    "def putLinesInSet(filePath, collection, lastChars):\n",
    "    lines = open(filePath)\n",
    "    for line in lines:\n",
    "        asciiLine = toLowercaseASCII(line)\n",
    "        collection.add(asciiLine)\n",
    "        splitedWords = asciiLine.split()\n",
    "        if len(splitedWords) >= 1:\n",
    "            firstWord = splitedWords[0]\n",
    "            lastChar = firstWord[-1]\n",
    "            if lastChar in lastChars:\n",
    "                lastChars[lastChar] = lastChars[lastChar] + 1\n",
    "            else:\n",
    "                lastChars[lastChar] = 1\n",
    "\n",
    "def getGendersFromNameDataFrame(filePath):\n",
    "    data = pd.read_csv(filePath)\n",
    "    print(data.head(3))\n",
    "    maleNamesFile = open(\"csv/maleNames.csv\",\"a\")\n",
    "    femaleNamesFile = open(\"csv/femaleNames.csv\",\"a\")\n",
    "    for index, row in data.iterrows():\n",
    "        gender = row['gender']\n",
    "        if gender == 'M':\n",
    "            maleNames.add(row['name'])\n",
    "            maleNamesFile.write(row['name']+\"\\n\")\n",
    "        elif gender == 'F':\n",
    "            femaleNames.add(row['name'])\n",
    "            femaleNamesFile.write(row['name']+\"\\n\")\n",
    "    femaleNamesFile.close()\n",
    "    maleNamesFile.close()\n",
    "\n",
    "putLinesInSet(\"csv/maleNames.csv\", maleNames, maleLastCharOcurrence)\n",
    "putLinesInSet(\"csv/femaleNames.csv\", femaleNames, femaleLastCharOcurrence)\n",
    "getGendersFromNameDataFrame(\"csv/unknownNames.csv\")\n",
    "print(\"Male names: \" + str(len(maleNames)))\n",
    "print(\"Female names: \" + str(len(femaleNames)))\n",
    "print(\"Names for both genders: \" + str(len(femaleNames.intersection(maleNames))))\n",
    "print(\"Male last chars: \")\n",
    "for key, value in maleLastCharOcurrence.items():\n",
    "    print(key + \": \" + str((value/len(maleNames))*100) + \"%\")\n",
    "    if key in femaleLastCharOcurrence:\n",
    "        print(\"\\t\" + key + \": \" + str((femaleLastCharOcurrence[key]/len(femaleNames))*100) + \"%, in females\")"
   ]
  },
  {
   "cell_type": "code",
   "execution_count": 10,
   "metadata": {
    "collapsed": false
   },
   "outputs": [
    {
     "name": "stdout",
     "output_type": "stream",
     "text": [
      "Servers without gender defined: 8\n"
     ]
    }
   ],
   "source": [
    "noGenderDF = pd.read_csv(\"csv/serversTreated.csv\")\n",
    "noGenderDF['gender'] = np.nan\n",
    "noGenderDF['gender'] = noGenderDF.apply(getGender, axis=1)\n",
    "noGenderServers = 0\n",
    "for index, row in noGenderDF.iterrows():\n",
    "    if row['gender'] == 'X':\n",
    "        noGenderServers += 1\n",
    "print(\"Servers without gender defined: \" + str(noGenderServers))\n",
    "noGenderDF.head()\n",
    "\n",
    "noGenderDF.to_csv(\"csv/serversTreatedWithGender.csv\")"
   ]
  },
  {
   "cell_type": "code",
   "execution_count": 45,
   "metadata": {
    "collapsed": false
   },
   "outputs": [
    {
     "name": "stdout",
     "output_type": "stream",
     "text": [
      "[883 rows x 2 columns]\n"
     ]
    }
   ],
   "source": [
    "undefinedNames = dict()\n",
    "for index, row in noGenderDF[noGenderDF.gender == 'X'].iterrows():\n",
    "    names = row['name'].split()[0]\n",
    "    #if()\n",
    "    if names in undefinedNames:\n",
    "        undefinedNames[names] += 1\n",
    "    else:\n",
    "        undefinedNames[names] = 1\n",
    "print(str(len(undefinedNames)) + \" undefined first names.\")\n",
    "series = pd.Series(undefinedNames)\n",
    "series.sort_values(ascending=False, inplace=True)\n",
    "series.rename(\"count\", inplace=True)\n",
    "unknownNamesDF = pd.DataFrame(series)\n",
    "unknownNamesDF['gender'] = 'X'\n",
    "print(unknownNamesDF)\n",
    "unknownNamesDF.to_csv(\"csv/unknownNames.csv\")"
   ]
  },
  {
   "cell_type": "code",
   "execution_count": 11,
   "metadata": {
    "collapsed": true
   },
   "outputs": [],
   "source": [
    "import math\n",
    "\n",
    "def moneyToFloat(x):\n",
    "    if x is float:\n",
    "        return x\n",
    "    noDots = x.replace('.', '')\n",
    "    noCurls = noDots.replace(',','.')\n",
    "    return float(noCurls)\n",
    "def parseLevel(x):\n",
    "    f = float(x)\n",
    "    if math.isnan(f):\n",
    "        return float('NaN')\n",
    "    elif(f < 101):\n",
    "        return float('NaN')\n",
    "    noDecimal = math.floor(f / 100) * 100\n",
    "    decimal = (((f/10)-int(f/10))*10)\n",
    "    decimal = decimal - 1\n",
    "    if decimal < 0:\n",
    "        decimal = 0\n",
    "    decimal = decimal * 25.0\n",
    "    return noDecimal + decimal\n",
    "\n",
    "genderDF = pd.read_csv(\"csv/serversTreatedWithGender.csv\")\n",
    "genderDF['money'] = genderDF['money'].apply(lambda x: moneyToFloat(x))\n",
    "genderDF['level'] = genderDF['level'].apply(lambda x: parseLevel(x))\n",
    "genderDF.to_csv(\"csv/serversTreatedWithGender.csv\")\n",
    "genderDF.head()"
   ]
  },
  {
   "cell_type": "code",
   "execution_count": null,
   "metadata": {
    "collapsed": true
   },
   "outputs": [],
   "source": []
  }
 ],
 "metadata": {
  "kernelspec": {
   "display_name": "Python 3",
   "language": "python",
   "name": "python3"
  },
  "language_info": {
   "codemirror_mode": {
    "name": "ipython",
    "version": 3
   },
   "file_extension": ".py",
   "mimetype": "text/x-python",
   "name": "python",
   "nbconvert_exporter": "python",
   "pygments_lexer": "ipython3",
   "version": "3.6.0"
  }
 },
 "nbformat": 4,
 "nbformat_minor": 2
}
