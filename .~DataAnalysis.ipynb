{
 "cells": [
  {
   "cell_type": "markdown",
   "metadata": {},
   "source": [
    "## Libraries"
   ]
  },
  {
   "cell_type": "code",
   "execution_count": 6,
   "metadata": {
    "collapsed": true
   },
   "outputs": [],
   "source": [
    "import unicodedata\n",
    "import pandas as pd\n",
    "import numpy as np"
   ]
  },
  {
   "cell_type": "markdown",
   "metadata": {},
   "source": [
    "## Normalizing the names to lowercase ascii to maximize the matchings between names from the name list and server list, in case of differences in spelling and uppercase/lowercase"
   ]
  },
  {
   "cell_type": "code",
   "execution_count": 2,
   "metadata": {
    "collapsed": true
   },
   "outputs": [],
   "source": [
    "#from https://stackoverflow.com/questions/517923/what-is-the-best-way-to-remove-accents-in-a-python-unicode-string\n",
    "def remove_accents(input_str):\n",
    "    nfkd_form = unicodedata.normalize('NFKD', input_str)\n",
    "    return u\"\".join([c for c in nfkd_form if not unicodedata.combining(c)])\n",
    "\n",
    "def toLowercaseASCII(inputStr):\n",
    "    noAccents = remove_accents(inputStr)\n",
    "    return noAccents.rstrip().lower()"
   ]
  },
  {
   "cell_type": "markdown",
   "metadata": {},
   "source": [
    "## Preparing servers information dataframe"
   ]
  },
  {
   "cell_type": "code",
   "execution_count": null,
   "metadata": {
    "collapsed": true
   },
   "outputs": [],
   "source": [
    "df = pd.read_csv(\"csv/servers.csv\", sep=';')\n",
    "print(\"Loaded original csv\")\n",
    "print(\"Total servers (raw): \" + str(len(df)))\n",
    "print(\"Servers without money: \" + str(len(df)-len(df.dropna(subset=['money']))))\n",
    "print(\"Servers without post: \" + str(len(df)-len(df.dropna(subset=['post']))))\n",
    "print(\"Servers without class: \" + str(len(df)-len(df.dropna(subset=['class']))))\n",
    "print(\"Servers without level: \" + str(len(df)-len(df.dropna(subset=['level']))))\n",
    "print(\"Servers without org: \" + str(len(df)-len(df.dropna(subset=['org']))))\n",
    "noNaNDF = df.dropna(subset=['org', 'class', 'post', 'money'])\n",
    "print(\"Servers with money, post, class and org: \" + str(len(noNaNDF)))\n",
    "\n",
    "#converting the names to ASCII lowercase format\n",
    "for index, row in noNaNDF.iterrows():\n",
    "    name = row['name']\n",
    "    newName = toLowercaseASCII(name)\n",
    "    noNaNDF.loc[index, 'name']=newName"
   ]
  },
  {
   "cell_type": "code",
   "execution_count": null,
   "metadata": {
    "collapsed": true
   },
   "outputs": [],
   "source": [
    "noNaNDF.to_csv(\"csv/serversTreated.csv\")"
   ]
  },
  {
   "cell_type": "markdown",
   "metadata": {},
   "source": [
    "## Creating sets, with normalized content, for female and male names"
   ]
  },
  {
   "cell_type": "code",
   "execution_count": 23,
   "metadata": {},
   "outputs": [
    {
     "name": "stdout",
     "output_type": "stream",
     "text": [
      "Male names: 3786\n",
      "Female names: 2947\n",
      "Names for both genders: 0\n"
     ]
    }
   ],
   "source": [
    "femaleNames = set()\n",
    "maleNames = set()\n",
    "\n",
    "def isFemale(name):\n",
    "    return (name in femaleNames)\n",
    "\n",
    "def isMale(name):\n",
    "    return (name in maleNames)\n",
    "\n",
    "def knownName(name):\n",
    "    return isFemale(name) or isMale(name)\n",
    "\n",
    "def getGenderFromLastChar(name):\n",
    "    if name.endswith('a'):\n",
    "        return 'F'\n",
    "    elif name.endswith('o'):\n",
    "        return 'M'\n",
    "    else:\n",
    "        return 'X'\n",
    "\n",
    "def getGender(row):\n",
    "    name = row['name']\n",
    "    names = name.split()\n",
    "    if len(names) <= 0:\n",
    "        return 'X'\n",
    "    firstName = names[0]\n",
    "    #print(firstName)\n",
    "    if firstName in femaleNames:\n",
    "        return 'F'\n",
    "    elif firstName in maleNames:\n",
    "        return 'M'\n",
    "    else:\n",
    "        if(len(names) > 1):\n",
    "            firstName = names[0] + \" \" + names[1]\n",
    "            if firstName in femaleNames:\n",
    "                return 'F'\n",
    "            elif firstName in maleNames:\n",
    "                return 'M'\n",
    "            else:\n",
    "                return getGenderFromLastChar(names[0])\n",
    "        else:\n",
    "            return getGenderFromLastChar(names[0])\n",
    "\n",
    "def putLinesInSet(filePath, collection):\n",
    "    lines = open(filePath)\n",
    "    for line in lines:\n",
    "        asciiLine\n",
    "        collection.add(toLowercaseASCII(line))\n",
    "        \n",
    "putLinesInSet(\"csv/maleNames.csv\", maleNames)\n",
    "putLinesInSet(\"csv/femaleNames.csv\", femaleNames)\n",
    "print(\"Male names: \" + str(len(maleNames)))\n",
    "print(\"Female names: \" + str(len(femaleNames)))\n",
    "print(\"Names for both genders: \" + str(len(femaleNames.intersection(maleNames))))\n",
    "#print(getGender({\"name\":\"ana caroline alguma coisa\"}))\n",
    "#print(getGender({\"name\":\"pitagoras alves\"}))\n",
    "#print(femaleNames)"
   ]
  },
  {
   "cell_type": "code",
   "execution_count": 24,
   "metadata": {},
   "outputs": [
    {
     "name": "stdout",
     "output_type": "stream",
     "text": [
      "Servers without gender defined: 824\n"
     ]
    },
    {
     "data": {
      "text/html": [
       "<div>\n",
       "<style>\n",
       "    .dataframe thead tr:only-child th {\n",
       "        text-align: right;\n",
       "    }\n",
       "\n",
       "    .dataframe thead th {\n",
       "        text-align: left;\n",
       "    }\n",
       "\n",
       "    .dataframe tbody tr th {\n",
       "        vertical-align: top;\n",
       "    }\n",
       "</style>\n",
       "<table border=\"1\" class=\"dataframe\">\n",
       "  <thead>\n",
       "    <tr style=\"text-align: right;\">\n",
       "      <th></th>\n",
       "      <th>Unnamed: 0</th>\n",
       "      <th>name</th>\n",
       "      <th>money</th>\n",
       "      <th>post</th>\n",
       "      <th>class</th>\n",
       "      <th>level</th>\n",
       "      <th>org</th>\n",
       "      <th>gender</th>\n",
       "    </tr>\n",
       "  </thead>\n",
       "  <tbody>\n",
       "    <tr>\n",
       "      <th>0</th>\n",
       "      <td>0</td>\n",
       "      <td>adelardo adelino dantas de medeiros</td>\n",
       "      <td>17.833,66</td>\n",
       "      <td>PROFESSOR DO MAGISTERIO SUPERIOR</td>\n",
       "      <td>7</td>\n",
       "      <td>704.0</td>\n",
       "      <td>PRO-REITORIA DE GRADUACAO</td>\n",
       "      <td>M</td>\n",
       "    </tr>\n",
       "    <tr>\n",
       "      <th>1</th>\n",
       "      <td>1</td>\n",
       "      <td>abmael bezerra de oliveira</td>\n",
       "      <td>10.388,52</td>\n",
       "      <td>PROFESSOR DO MAGISTERIO SUPERIOR</td>\n",
       "      <td>6</td>\n",
       "      <td>604.0</td>\n",
       "      <td>DEPARTAMENTO DE ENGENHARIA ELETRICA</td>\n",
       "      <td>X</td>\n",
       "    </tr>\n",
       "    <tr>\n",
       "      <th>2</th>\n",
       "      <td>2</td>\n",
       "      <td>adailton garcia da silva</td>\n",
       "      <td>7.464,42</td>\n",
       "      <td>TECNICO EM AGROPECUARIA</td>\n",
       "      <td>D</td>\n",
       "      <td>NaN</td>\n",
       "      <td>ESCOLA AGRICOLA DE JUNDIAI - UAECA</td>\n",
       "      <td>M</td>\n",
       "    </tr>\n",
       "    <tr>\n",
       "      <th>3</th>\n",
       "      <td>3</td>\n",
       "      <td>ada cristina scudelari</td>\n",
       "      <td>19.995,43</td>\n",
       "      <td>PROFESSOR DO MAGISTERIO SUPERIOR</td>\n",
       "      <td>8</td>\n",
       "      <td>801.0</td>\n",
       "      <td>DEPARTAMENTO DE ENGENHARIA CIVIL</td>\n",
       "      <td>F</td>\n",
       "    </tr>\n",
       "    <tr>\n",
       "      <th>4</th>\n",
       "      <td>7</td>\n",
       "      <td>adamo perrucci</td>\n",
       "      <td>10.557,63</td>\n",
       "      <td>PROFESSOR MAGISTERIO SUPERIOR -VISITANTE</td>\n",
       "      <td>4</td>\n",
       "      <td>601.0</td>\n",
       "      <td>DEPT DE DIREITO PROCESSUAL PROPEDEUTICA</td>\n",
       "      <td>M</td>\n",
       "    </tr>\n",
       "  </tbody>\n",
       "</table>\n",
       "</div>"
      ],
      "text/plain": [
       "   Unnamed: 0                                 name      money  \\\n",
       "0           0  adelardo adelino dantas de medeiros  17.833,66   \n",
       "1           1           abmael bezerra de oliveira  10.388,52   \n",
       "2           2             adailton garcia da silva   7.464,42   \n",
       "3           3               ada cristina scudelari  19.995,43   \n",
       "4           7                       adamo perrucci  10.557,63   \n",
       "\n",
       "                                       post class  level  \\\n",
       "0          PROFESSOR DO MAGISTERIO SUPERIOR     7  704.0   \n",
       "1          PROFESSOR DO MAGISTERIO SUPERIOR     6  604.0   \n",
       "2                   TECNICO EM AGROPECUARIA     D    NaN   \n",
       "3          PROFESSOR DO MAGISTERIO SUPERIOR     8  801.0   \n",
       "4  PROFESSOR MAGISTERIO SUPERIOR -VISITANTE     4  601.0   \n",
       "\n",
       "                                       org gender  \n",
       "0                PRO-REITORIA DE GRADUACAO      M  \n",
       "1      DEPARTAMENTO DE ENGENHARIA ELETRICA      X  \n",
       "2       ESCOLA AGRICOLA DE JUNDIAI - UAECA      M  \n",
       "3         DEPARTAMENTO DE ENGENHARIA CIVIL      F  \n",
       "4  DEPT DE DIREITO PROCESSUAL PROPEDEUTICA      M  "
      ]
     },
     "execution_count": 24,
     "metadata": {},
     "output_type": "execute_result"
    }
   ],
   "source": [
    "noGenderDF = pd.read_csv(\"csv/serversTreated.csv\")\n",
    "noGenderDF['gender'] = np.nan\n",
    "noGenderDF['gender'] = noGenderDF.apply(getGender, axis=1)\n",
    "noGenderServers = 0\n",
    "for index, row in noGenderDF.iterrows():\n",
    "    if row['gender'] == 'X':\n",
    "        noGenderServers += 1\n",
    "print(\"Servers without gender defined: \" + str(noGenderServers))\n",
    "noGenderDF.head()"
   ]
  },
  {
   "cell_type": "code",
   "execution_count": null,
   "metadata": {},
   "outputs": [],
   "source": []
  },
  {
   "cell_type": "code",
   "execution_count": null,
   "metadata": {
    "collapsed": true
   },
   "outputs": [],
   "source": []
  },
  {
   "cell_type": "code",
   "execution_count": null,
   "metadata": {
    "collapsed": true
   },
   "outputs": [],
   "source": []
  }
 ],
 "metadata": {
  "kernelspec": {
   "display_name": "Python 3",
   "language": "python",
   "name": "python3"
  },
  "language_info": {
   "codemirror_mode": {
    "name": "ipython",
    "version": 3
   },
   "file_extension": ".py",
   "mimetype": "text/x-python",
   "name": "python",
   "nbconvert_exporter": "python",
   "pygments_lexer": "ipython3",
   "version": "3.6.1"
  }
 },
 "nbformat": 4,
 "nbformat_minor": 2
}
