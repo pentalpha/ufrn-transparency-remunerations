{
 "cells": [
  {
   "cell_type": "markdown",
   "metadata": {},
   "source": [
    "# Pegando a lista de servidores"
   ]
  },
  {
   "cell_type": "code",
   "execution_count": 1,
   "metadata": {
    "collapsed": true
   },
   "outputs": [],
   "source": [
    "import time\n",
    "import requests\n",
    "import pandas as pd\n",
    "from bs4 import BeautifulSoup"
   ]
  },
  {
   "cell_type": "code",
   "execution_count": 70,
   "metadata": {
    "collapsed": true
   },
   "outputs": [],
   "source": [
    "def requestHTMLPage(url):\n",
    "    r = requests.get(url)\n",
    "    while r.status_code != 200:\n",
    "        time.sleep(10)\n",
    "        r = requests.get(url)\n",
    "    return r.content"
   ]
  },
  {
   "cell_type": "code",
   "execution_count": 71,
   "metadata": {
    "collapsed": true
   },
   "outputs": [],
   "source": [
    "# para pegar os servidores da UFRN\n",
    "urlBaseSite = \"http://www.portaldatransparencia.gov.br/servidores/\"\n",
    "urlBaseOrgaoExercicio = \"OrgaoExercicio-ListaServidores.asp?CodOrg=26243&Pagina=\""
   ]
  },
  {
   "cell_type": "code",
   "execution_count": 72,
   "metadata": {
    "collapsed": false
   },
   "outputs": [],
   "source": [
    "content = requestHTMLPage(urlBase)\n",
    "soup = BeautifulSoup(content, \"html.parser\")\n",
    "pages = soup.find_all(\"div\", id = \"paginacao\")"
   ]
  },
  {
   "cell_type": "code",
   "execution_count": 73,
   "metadata": {
    "collapsed": false
   },
   "outputs": [],
   "source": [
    "# get the greater page number of functionaries\n",
    "for p in pages:\n",
    "    maxPages = p.select('a')[1].get('onclick')\n",
    "maxPages = int(maxPages[maxPages.find(\"(\")+1:maxPages.find(\")\")])"
   ]
  },
  {
   "cell_type": "code",
   "execution_count": 154,
   "metadata": {
    "collapsed": false
   },
   "outputs": [],
   "source": [
    "def getName(sumarry):\n",
    "    sumarry = sumarry.find_all('td')\n",
    "    iterDetails = iter(sumarry)\n",
    "    while True:\n",
    "        try:\n",
    "            currentDetail = next(iterDetails).getText()\n",
    "            if 'Nome:' in currentDetail:\n",
    "                name = next(iterDetails).getText().strip()\n",
    "                print(name)\n",
    "        except StopIteration:\n",
    "            break\n",
    "    return name\n",
    "    \n",
    "def getMoneyInfo(moneyUrl):\n",
    "    return 0\n",
    "\n",
    "def getSumarryInfo(soup):\n",
    "    sumarry = soup.find_all('div', id='resumo')\n",
    "    for s in sumarry: \n",
    "        moneyUrl = s.find_all('a')[0].get('href')\n",
    "        name = getName(s)\n",
    "    money = getMoneyInfo(moneyUrl)\n",
    "    return name, \"\"\n",
    "\n",
    "def getGeneralInfo(soup):\n",
    "    details = soup.find_all('td')\n",
    "    iterDetails = iter(details)\n",
    "    while True:\n",
    "        try:\n",
    "            currentDetail = next(iterDetails).getText()\n",
    "            if 'Cargo Emprego:' in currentDetail:\n",
    "                post = next(iterDetails).getText()\n",
    "            elif 'Classe:' in currentDetail:\n",
    "                class_ = next(iterDetails).getText()\n",
    "            elif 'Nível:' in currentDetail:\n",
    "                level = next(iterDetails).getText()\n",
    "            elif 'UORG:' in currentDetail:\n",
    "                org = next(iterDetails).getText()\n",
    "        except StopIteration:\n",
    "            break\n",
    "    return post, class_, level, org\n",
    "\n",
    "def getFunctionaryInfo(functionaryUrl):\n",
    "    info = requestHTMLPage(urlBaseSite + functionaryUrl)\n",
    "    soup = BeautifulSoup(info, \"html.parser\")\n",
    "    name, money = getSumarryInfo(soup)\n",
    "    post, class_, level, org = getGeneralInfo(soup)\n",
    "    return "
   ]
  },
  {
   "cell_type": "code",
   "execution_count": 83,
   "metadata": {
    "collapsed": false
   },
   "outputs": [],
   "source": [
    "def getFuncionaryUrls(pageNumber):\n",
    "    content = requestHTMLPage(urlBaseSite + urlBaseOrgaoExercicio + str(pageNumber))\n",
    "    soup = BeautifulSoup(content, \"html.parser\")\n",
    "    funcionaries = soup.find_all('div', id='listagem')\n",
    "    funcionariesList = []\n",
    "    for l in funcionaries:\n",
    "        table = l.find_all('tr')\n",
    "        table = table[1:]\n",
    "        for funcionary in table:\n",
    "            funcionariesList.append(funcionary.find_all('a')[0].get('href'))\n",
    "    return funcionariesList"
   ]
  },
  {
   "cell_type": "code",
   "execution_count": 76,
   "metadata": {
    "collapsed": true
   },
   "outputs": [],
   "source": [
    "def saveCSV(infos):\n",
    "    return 0"
   ]
  },
  {
   "cell_type": "code",
   "execution_count": 155,
   "metadata": {
    "collapsed": false,
    "scrolled": false
   },
   "outputs": [
    {
     "name": "stdout",
     "output_type": "stream",
     "text": [
      "ABDO FARRET NETO\n"
     ]
    },
    {
     "data": {
      "text/plain": [
       "0"
      ]
     },
     "execution_count": 155,
     "metadata": {},
     "output_type": "execute_result"
    }
   ],
   "source": [
    "for i in range(0, 1): # maxPage\n",
    "    funcionariesList = getFuncionaryUrls(i + 1)\n",
    "    infos = []\n",
    "    for f in funcionariesList: \n",
    "        infos.append(getFunctionaryInfo(f))\n",
    "        break\n",
    "saveCSV(infos)"
   ]
  },
  {
   "cell_type": "code",
   "execution_count": null,
   "metadata": {
    "collapsed": true
   },
   "outputs": [],
   "source": []
  }
 ],
 "metadata": {
  "kernelspec": {
   "display_name": "Python 3",
   "language": "python",
   "name": "python3"
  },
  "language_info": {
   "codemirror_mode": {
    "name": "ipython",
    "version": 3
   },
   "file_extension": ".py",
   "mimetype": "text/x-python",
   "name": "python",
   "nbconvert_exporter": "python",
   "pygments_lexer": "ipython3",
   "version": "3.6.0"
  }
 },
 "nbformat": 4,
 "nbformat_minor": 2
}
