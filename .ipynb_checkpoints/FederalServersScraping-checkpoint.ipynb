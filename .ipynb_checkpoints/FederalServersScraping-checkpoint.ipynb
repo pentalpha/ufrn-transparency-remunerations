{
 "cells": [
  {
   "cell_type": "markdown",
   "metadata": {},
   "source": [
    "# Getting federal servers list"
   ]
  },
  {
   "cell_type": "code",
   "execution_count": 1,
   "metadata": {
    "collapsed": true
   },
   "outputs": [],
   "source": [
    "import time\n",
    "import requests\n",
    "import pandas as pd\n",
    "from bs4 import BeautifulSoup\n",
    "from threading import Thread\n",
    "base = 'csv/'"
   ]
  },
  {
   "cell_type": "code",
   "execution_count": 2,
   "metadata": {
    "collapsed": true
   },
   "outputs": [],
   "source": [
    "def requestHTMLPage(url):\n",
    "    r = requests.get(url)\n",
    "    while r.status_code != 200:\n",
    "        time.sleep(10)\n",
    "        r = requests.get(url)\n",
    "        print(\"Loop em potencial\")\n",
    "    return r.content"
   ]
  },
  {
   "cell_type": "code",
   "execution_count": 3,
   "metadata": {
    "collapsed": true
   },
   "outputs": [],
   "source": [
    "# url base of portal da transparencia (where there is the list of functionaries)\n",
    "urlBaseSite = \"http://www.portaldatransparencia.gov.br/\"\n",
    "urlBaseOrgaoExercicio = \"servidores/OrgaoExercicio-ListaServidores.asp?CodOrg=26243&Pagina=\"\n",
    "currentMonth = 4"
   ]
  },
  {
   "cell_type": "code",
   "execution_count": 4,
   "metadata": {
    "collapsed": false
   },
   "outputs": [],
   "source": [
    "content = requestHTMLPage(urlBaseSite + urlBaseOrgaoExercicio)\n",
    "soup = BeautifulSoup(content, \"html.parser\")\n",
    "pages = soup.find_all(\"div\", id = \"paginacao\")"
   ]
  },
  {
   "cell_type": "code",
   "execution_count": 5,
   "metadata": {
    "collapsed": false
   },
   "outputs": [
    {
     "data": {
      "text/plain": [
       "414"
      ]
     },
     "execution_count": 5,
     "metadata": {},
     "output_type": "execute_result"
    }
   ],
   "source": [
    "# get the greater page number of functionaries\n",
    "maxPage = pages[0].select('a')[1].get('onclick')\n",
    "maxPage = int(maxPage[maxPage.find(\"(\")+1:maxPage.find(\")\")])\n",
    "maxPage"
   ]
  },
  {
   "cell_type": "code",
   "execution_count": 6,
   "metadata": {
    "collapsed": true
   },
   "outputs": [],
   "source": [
    "def getName(sumarry):\n",
    "    sumarry = sumarry.find_all('td')\n",
    "    iterDetails = iter(sumarry)\n",
    "    while True:\n",
    "        try:\n",
    "            currentDetail = next(iterDetails).getText()\n",
    "            if 'Nome:' in currentDetail:\n",
    "                name = next(iterDetails).getText().strip()\n",
    "        except StopIteration:\n",
    "            break\n",
    "    return name\n",
    "\n",
    "def getMoneyValue(soup):\n",
    "    basicRemuneration = soup.find_all('td')\n",
    "    iterDetails = iter(basicRemuneration)\n",
    "    money = \"\"\n",
    "    while True:\n",
    "        try:\n",
    "            currentDetail = next(iterDetails).getText()\n",
    "            if 'Remuneração básica bruta' in currentDetail:\n",
    "                money = next(iterDetails).getText().strip()\n",
    "        except StopIteration:\n",
    "            break\n",
    "    return money\n",
    "\n",
    "def getMoneyInfo(moneyUrl):\n",
    "    money = \"-1000\"\n",
    "    for i in range(1, currentMonth+1):\n",
    "        moneyPage = requestHTMLPage(urlBaseSite + moneyUrl + \"&Ano=2017&Mes=\" + str(i))\n",
    "        if 'Servidor sem ficha' in str(moneyPage):\n",
    "            continue\n",
    "        else:\n",
    "            soup = BeautifulSoup(moneyPage, \"html.parser\")\n",
    "            money = getMoneyValue(soup)\n",
    "            break\n",
    "    return money\n",
    "\n",
    "def getSumarryInfo(soup):\n",
    "    sumarry = soup.find_all('div', id='resumo')[0]\n",
    "    moneyUrl = sumarry.find_all('a')[0].get('href')\n",
    "    name = getName(sumarry)\n",
    "    money = getMoneyInfo(moneyUrl)\n",
    "    return name, money\n",
    "\n",
    "# scraping post, class_, level, org (departament where funcionary works)\n",
    "# soup : page to be scraped \n",
    "# returns : tuple with post, class, level, org \n",
    "def getGeneralInfo(soup):\n",
    "    details = soup.find_all('td')\n",
    "    iterDetails = iter(details)\n",
    "    post = \"\"\n",
    "    class_ = \"\"\n",
    "    level = \"\"\n",
    "    org = \"\"\n",
    "    while True:\n",
    "        try:\n",
    "            currentDetail = next(iterDetails).getText()\n",
    "            if 'Cargo Emprego:' in currentDetail:\n",
    "                post = next(iterDetails).getText().strip()\n",
    "            elif 'Classe:' in currentDetail:\n",
    "                class_ = next(iterDetails).getText().strip()\n",
    "            elif 'Nível:' in currentDetail:\n",
    "                level = next(iterDetails).getText().strip()\n",
    "            elif 'UORG:' in currentDetail:\n",
    "                org = next(iterDetails).getText().strip()\n",
    "        except StopIteration:\n",
    "            break\n",
    "    return post, class_, level, org\n",
    "\n",
    "# functionaryUrl : url page of functionary \n",
    "# returns : tuple with name, salary (called money), post, class, level and org (departament)\n",
    "def getFunctionaryInfo(functionaryUrl, infos):\n",
    "    info = requestHTMLPage(urlBaseSite + 'servidores/' + functionaryUrl)\n",
    "    soup = BeautifulSoup(info, \"html.parser\")\n",
    "    name, money = getSumarryInfo(soup)\n",
    "    post, class_, level, org = getGeneralInfo(soup)\n",
    "    infos.append((name, money, post, class_, level, org))"
   ]
  },
  {
   "cell_type": "code",
   "execution_count": 7,
   "metadata": {
    "collapsed": true
   },
   "outputs": [],
   "source": [
    "# functionaries of a given page\n",
    "def getFunctionaryUrls(pageNumber):\n",
    "    content = requestHTMLPage(urlBaseSite + urlBaseOrgaoExercicio + str(pageNumber))\n",
    "    soup = BeautifulSoup(content, \"html.parser\")\n",
    "    functionaries = soup.find_all('div', id='listagem')\n",
    "    functionariesList = []\n",
    "    for l in functionaries:\n",
    "        table = l.find_all('tr')\n",
    "        table = table[1:]\n",
    "        for functionary in table:\n",
    "            functionariesList.append(functionary.find_all('a')[0].get('href'))\n",
    "    return functionariesList"
   ]
  },
  {
   "cell_type": "code",
   "execution_count": 8,
   "metadata": {
    "collapsed": true
   },
   "outputs": [],
   "source": [
    "# save stuff\n",
    "def toString(name, money, post, class_, level, org):\n",
    "    return name + ';' + money + ';' + post + ';' + class_ + ';' + level + ';' + org + '\\n'\n",
    "\n",
    "def saveCSV(infos):\n",
    "    file = open(base + 'servers.csv', 'w')\n",
    "    file.write(\"name;money;post;class;level;org\\n\")\n",
    "    for i in infos:\n",
    "        file.write(toString(*i))\n",
    "    file.close()"
   ]
  },
  {
   "cell_type": "code",
   "execution_count": 13,
   "metadata": {
    "collapsed": false,
    "scrolled": false
   },
   "outputs": [
    {
     "name": "stdout",
     "output_type": "stream",
     "text": [
      "\n"
     ]
    }
   ],
   "source": [
    "# using threads to get functionary info faster\n",
    "def callGetFunctionaryInfo(urls, infos):\n",
    "    threads = list()\n",
    "    for url in urls:\n",
    "        thread = Thread(target=getFunctionaryInfo, args=(url, infos))\n",
    "        threads.append(thread)\n",
    "    for t in threads:\n",
    "        t.start()\n",
    "    for t in threads:\n",
    "        t.join()\n",
    "\n",
    "maxLen = 30\n",
    "infos = []\n",
    "urls = []\n",
    "for i in range(0, maxPage): # for each page it gets all functionaries \n",
    "    urls += getFunctionaryUrls(i + 1)\n",
    "    if len(urls) >= maxLen:\n",
    "        callGetFunctionaryInfo(urls, infos)\n",
    "        urls = []\n",
    "        print(\"Current page \" + str(i + 1))\n",
    "if len(urls) > 0:\n",
    "    callGetFunctionaryInfo(urls, infos)\n",
    "print(\"Finished\")\n",
    "saveCSV(infos)"
   ]
  },
  {
   "cell_type": "code",
   "execution_count": null,
   "metadata": {
    "collapsed": true
   },
   "outputs": [],
   "source": []
  }
 ],
 "metadata": {
  "kernelspec": {
   "display_name": "Python 3",
   "language": "python",
   "name": "python3"
  },
  "language_info": {
   "codemirror_mode": {
    "name": "ipython",
    "version": 3
   },
   "file_extension": ".py",
   "mimetype": "text/x-python",
   "name": "python",
   "nbconvert_exporter": "python",
   "pygments_lexer": "ipython3",
   "version": "3.6.0"
  }
 },
 "nbformat": 4,
 "nbformat_minor": 2
}
