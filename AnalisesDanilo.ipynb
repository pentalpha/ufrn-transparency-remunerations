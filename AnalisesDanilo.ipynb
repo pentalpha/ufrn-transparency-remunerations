{
 "cells": [
  {
   "cell_type": "code",
   "execution_count": 1,
   "metadata": {
    "collapsed": true
   },
   "outputs": [],
   "source": [
    "import pandas as pd\n",
    "\n",
    "genderDF = pd.read_csv(\"csv/serversTreatedWithGender.csv\")\n",
    "dfWithoutGenderX = genderDF[genderDF['gender'] != 'X']"
   ]
  },
  {
   "cell_type": "code",
   "execution_count": 2,
   "metadata": {},
   "outputs": [
    {
     "name": "stderr",
     "output_type": "stream",
     "text": [
      "/home/pitagoras/anaconda3/lib/python3.6/site-packages/ipykernel_launcher.py:10: FutureWarning: by argument to sort_index is deprecated, pls use .sort_values(by=...)\n",
      "  # Remove the CWD from sys.path while we load stuff.\n"
     ]
    }
   ],
   "source": [
    "from bokeh.charts import Scatter, output_file, show\n",
    "from bokeh.layouts import row\n",
    "\n",
    "#p1 = Scatter(genderDF, x = 'money', y = 'level', color = 'gender', title = 'Wage relation Men(M) x Women(F) per level')\n",
    "\n",
    "#p2 = Scatter(genderDF.sort_index(by = 'class', ascending=False), x = 'money', y = 'class', color = 'gender', title = 'Wage relation Men(M) x Women(F) per class')\n",
    "\n",
    "p1 = Scatter(dfWithoutGenderX, x = 'money', y = 'level', color = 'gender', marker = 'gender', title = 'Wage relation Men(M) x Women(F) per level')\n",
    "\n",
    "p2 = Scatter(dfWithoutGenderX.sort_index(by = ['class', 'gender'], ascending=False), x = 'money', y = 'class', color = 'gender', marker = 'gender', title = 'Wage relation Men(M) x Women(F) per class')\n",
    "\n",
    "layout = row(p1, p2)\n",
    "\n",
    "output_file('scatter.html')\n",
    "\n",
    "show(layout)"
   ]
  },
  {
   "cell_type": "code",
   "execution_count": 3,
   "metadata": {},
   "outputs": [
    {
     "name": "stderr",
     "output_type": "stream",
     "text": [
      "/home/pitagoras/anaconda3/lib/python3.6/site-packages/ipykernel_launcher.py:12: FutureWarning: by argument to sort_index is deprecated, pls use .sort_values(by=...)\n",
      "  if sys.path[0] == '':\n"
     ]
    }
   ],
   "source": [
    "from bokeh.charts import Scatter, output_file, show\n",
    "from bokeh.layouts import row\n",
    "\n",
    "dftest = dfWithoutGenderX[dfWithoutGenderX['money'] > 30000]\n",
    "\n",
    "#p1 = Scatter(genderDF, x = 'money', y = 'level', color = 'gender', title = 'Wage relation Men(M) x Women(F) per level')\n",
    "\n",
    "#p2 = Scatter(genderDF.sort_index(by = 'class', ascending=False), x = 'money', y = 'class', color = 'gender', title = 'Wage relation Men(M) x Women(F) per class')\n",
    "\n",
    "p1 = Scatter(dftest, x = 'money', y = 'post', color = 'gender', marker = 'gender', title = 'Wage relation Men(M) x Women(F) occupation (>30000)')\n",
    "\n",
    "p2 = Scatter(dftest.sort_index(by = ['class', 'gender'], ascending=False), x = 'money', y = 'org', color = 'gender', marker = 'gender', title = 'Wage relation Men(M) x Women(F) org (>30000)')\n",
    "\n",
    "layout = row(p1, p2)\n",
    "\n",
    "output_file('scatter2.html')\n",
    "\n",
    "show(layout)"
   ]
  },
  {
   "cell_type": "code",
   "execution_count": 4,
   "metadata": {},
   "outputs": [
    {
     "data": {
      "text/html": [
       "<div>\n",
       "<style>\n",
       "    .dataframe thead tr:only-child th {\n",
       "        text-align: right;\n",
       "    }\n",
       "\n",
       "    .dataframe thead th {\n",
       "        text-align: left;\n",
       "    }\n",
       "\n",
       "    .dataframe tbody tr th {\n",
       "        vertical-align: top;\n",
       "    }\n",
       "</style>\n",
       "<table border=\"1\" class=\"dataframe\">\n",
       "  <thead>\n",
       "    <tr style=\"text-align: right;\">\n",
       "      <th></th>\n",
       "      <th>Unnamed: 0</th>\n",
       "      <th>Unnamed: 0.1</th>\n",
       "      <th>Unnamed: 0.1.1</th>\n",
       "      <th>name</th>\n",
       "      <th>money</th>\n",
       "      <th>post</th>\n",
       "      <th>class</th>\n",
       "      <th>level</th>\n",
       "      <th>org</th>\n",
       "      <th>gender</th>\n",
       "    </tr>\n",
       "  </thead>\n",
       "  <tbody>\n",
       "    <tr>\n",
       "      <th>1365</th>\n",
       "      <td>1365</td>\n",
       "      <td>1365</td>\n",
       "      <td>1511</td>\n",
       "      <td>eliane leao</td>\n",
       "      <td>35770.15</td>\n",
       "      <td>PROFESSOR MAGISTERIO SUPERIOR -VISITANTE</td>\n",
       "      <td>8</td>\n",
       "      <td>800.0</td>\n",
       "      <td>ESCOLA DE MUSICA - UAEM</td>\n",
       "      <td>F</td>\n",
       "    </tr>\n",
       "    <tr>\n",
       "      <th>1843</th>\n",
       "      <td>1843</td>\n",
       "      <td>1843</td>\n",
       "      <td>2029</td>\n",
       "      <td>francisco george brady moreira</td>\n",
       "      <td>34449.68</td>\n",
       "      <td>PROFESSOR MAGISTERIO SUPERIOR -VISITANTE</td>\n",
       "      <td>7</td>\n",
       "      <td>700.0</td>\n",
       "      <td>DEPTO DE FISICA TEORICA E EXPERIMENTAL</td>\n",
       "      <td>M</td>\n",
       "    </tr>\n",
       "    <tr>\n",
       "      <th>3796</th>\n",
       "      <td>3796</td>\n",
       "      <td>3796</td>\n",
       "      <td>4159</td>\n",
       "      <td>maria cristina dal pian</td>\n",
       "      <td>34987.76</td>\n",
       "      <td>PROFESSOR MAGISTERIO SUPERIOR -VISITANTE</td>\n",
       "      <td>6</td>\n",
       "      <td>600.0</td>\n",
       "      <td>INSTITUTO METROPOLE DIGITAL</td>\n",
       "      <td>F</td>\n",
       "    </tr>\n",
       "    <tr>\n",
       "      <th>7029</th>\n",
       "      <td>7029</td>\n",
       "      <td>7029</td>\n",
       "      <td>7731</td>\n",
       "      <td>eliane leao</td>\n",
       "      <td>35770.15</td>\n",
       "      <td>PROFESSOR MAGISTERIO SUPERIOR -VISITANTE</td>\n",
       "      <td>8</td>\n",
       "      <td>800.0</td>\n",
       "      <td>ESCOLA DE MUSICA - UAEM</td>\n",
       "      <td>F</td>\n",
       "    </tr>\n",
       "    <tr>\n",
       "      <th>7482</th>\n",
       "      <td>7482</td>\n",
       "      <td>7482</td>\n",
       "      <td>8223</td>\n",
       "      <td>francisco george brady moreira</td>\n",
       "      <td>34449.68</td>\n",
       "      <td>PROFESSOR MAGISTERIO SUPERIOR -VISITANTE</td>\n",
       "      <td>7</td>\n",
       "      <td>700.0</td>\n",
       "      <td>DEPTO DE FISICA TEORICA E EXPERIMENTAL</td>\n",
       "      <td>M</td>\n",
       "    </tr>\n",
       "    <tr>\n",
       "      <th>9428</th>\n",
       "      <td>9428</td>\n",
       "      <td>9428</td>\n",
       "      <td>10346</td>\n",
       "      <td>maria cristina dal pian</td>\n",
       "      <td>34987.76</td>\n",
       "      <td>PROFESSOR MAGISTERIO SUPERIOR -VISITANTE</td>\n",
       "      <td>6</td>\n",
       "      <td>600.0</td>\n",
       "      <td>INSTITUTO METROPOLE DIGITAL</td>\n",
       "      <td>F</td>\n",
       "    </tr>\n",
       "  </tbody>\n",
       "</table>\n",
       "</div>"
      ],
      "text/plain": [
       "      Unnamed: 0  Unnamed: 0.1  Unnamed: 0.1.1  \\\n",
       "1365        1365          1365            1511   \n",
       "1843        1843          1843            2029   \n",
       "3796        3796          3796            4159   \n",
       "7029        7029          7029            7731   \n",
       "7482        7482          7482            8223   \n",
       "9428        9428          9428           10346   \n",
       "\n",
       "                                name     money  \\\n",
       "1365                     eliane leao  35770.15   \n",
       "1843  francisco george brady moreira  34449.68   \n",
       "3796         maria cristina dal pian  34987.76   \n",
       "7029                     eliane leao  35770.15   \n",
       "7482  francisco george brady moreira  34449.68   \n",
       "9428         maria cristina dal pian  34987.76   \n",
       "\n",
       "                                          post class  level  \\\n",
       "1365  PROFESSOR MAGISTERIO SUPERIOR -VISITANTE     8  800.0   \n",
       "1843  PROFESSOR MAGISTERIO SUPERIOR -VISITANTE     7  700.0   \n",
       "3796  PROFESSOR MAGISTERIO SUPERIOR -VISITANTE     6  600.0   \n",
       "7029  PROFESSOR MAGISTERIO SUPERIOR -VISITANTE     8  800.0   \n",
       "7482  PROFESSOR MAGISTERIO SUPERIOR -VISITANTE     7  700.0   \n",
       "9428  PROFESSOR MAGISTERIO SUPERIOR -VISITANTE     6  600.0   \n",
       "\n",
       "                                         org gender  \n",
       "1365                 ESCOLA DE MUSICA - UAEM      F  \n",
       "1843  DEPTO DE FISICA TEORICA E EXPERIMENTAL      M  \n",
       "3796             INSTITUTO METROPOLE DIGITAL      F  \n",
       "7029                 ESCOLA DE MUSICA - UAEM      F  \n",
       "7482  DEPTO DE FISICA TEORICA E EXPERIMENTAL      M  \n",
       "9428             INSTITUTO METROPOLE DIGITAL      F  "
      ]
     },
     "execution_count": 4,
     "metadata": {},
     "output_type": "execute_result"
    }
   ],
   "source": [
    "dftest[dftest['post'] == 'PROFESSOR MAGISTERIO SUPERIOR -VISITANTE']"
   ]
  },
  {
   "cell_type": "code",
   "execution_count": 5,
   "metadata": {
    "collapsed": true
   },
   "outputs": [],
   "source": [
    "from bokeh.charts import BoxPlot, output_file, show\n",
    "\n",
    "dfIMD = dfWithoutGenderX[dfWithoutGenderX['org'] == 'INSTITUTO METROPOLE DIGITAL']\n",
    "\n",
    "p = BoxPlot(dfIMD, values = 'money', label = 'gender', color = 'gender', xlabel = 'Gender', ylabel = 'money')\n",
    "\n",
    "output_file('boxplotIMD.html')\n",
    "\n",
    "show(p)"
   ]
  },
  {
   "cell_type": "code",
   "execution_count": null,
   "metadata": {
    "collapsed": true
   },
   "outputs": [],
   "source": []
  }
 ],
 "metadata": {
  "kernelspec": {
   "display_name": "Python 3",
   "language": "python",
   "name": "python3"
  },
  "language_info": {
   "codemirror_mode": {
    "name": "ipython",
    "version": 3
   },
   "file_extension": ".py",
   "mimetype": "text/x-python",
   "name": "python",
   "nbconvert_exporter": "python",
   "pygments_lexer": "ipython3",
   "version": "3.6.1"
  }
 },
 "nbformat": 4,
 "nbformat_minor": 2
}
